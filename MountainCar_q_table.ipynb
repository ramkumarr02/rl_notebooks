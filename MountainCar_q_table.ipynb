{
 "cells": [
  {
   "cell_type": "code",
   "execution_count": 1,
   "metadata": {},
   "outputs": [],
   "source": [
    "import numpy as np\n",
    "import gym\n",
    "import matplotlib.pyplot as plt"
   ]
  },
  {
   "cell_type": "code",
   "execution_count": 2,
   "metadata": {},
   "outputs": [],
   "source": [
    "env = gym.make('MountainCar-v0')"
   ]
  },
  {
   "cell_type": "code",
   "execution_count": 3,
   "metadata": {},
   "outputs": [
    {
     "name": "stdout",
     "output_type": "stream",
     "text": [
      "number_of_state_parameters : 2\n",
      "number_of_possible_actions : 3\n",
      "-----------------------------\n",
      "custom_parameter_bins      : 20\n",
      "q_table_parameter_bins     : [20, 20]\n",
      "q_table_size               : [20, 20, 3]\n",
      "-----------------------------\n",
      "state_parameter_sample     : [0.26085252 0.05003344]\n",
      "state_parameters_range     : [1.8000001 0.14     ]\n",
      "state_parameters_dividor   : [0.09  0.007]\n"
     ]
    }
   ],
   "source": [
    "number_of_state_parameters = env.observation_space.shape[0]\n",
    "number_of_possible_actions = env.action_space.n\n",
    "\n",
    "custom_parameter_bins = 20\n",
    "\n",
    "q_table_parameter_bins = [custom_parameter_bins] * number_of_state_parameters \n",
    "q_table_size = q_table_parameter_bins + [number_of_possible_actions,]\n",
    "\n",
    "state_parameter_sample = env.observation_space.sample()\n",
    "state_parameters_range = env.observation_space.high - env.observation_space.low\n",
    "state_parameters_dividor = (state_parameters_range) / q_table_parameter_bins\n",
    "\n",
    "\n",
    "print(f'number_of_state_parameters : {number_of_state_parameters}')\n",
    "print(f'number_of_possible_actions : {number_of_possible_actions}')\n",
    "\n",
    "print('-----------------------------')\n",
    "\n",
    "print(f'custom_parameter_bins      : {custom_parameter_bins}')\n",
    "print(f'q_table_parameter_bins     : {q_table_parameter_bins}')      \n",
    "print(f'q_table_size               : {q_table_size}')      \n",
    "\n",
    "print('-----------------------------')\n",
    "print(f'state_parameter_sample     : {state_parameter_sample}')\n",
    "print(f'state_parameters_range     : {state_parameters_range}')\n",
    "print(f'state_parameters_dividor   : {state_parameters_dividor}')      "
   ]
  },
  {
   "cell_type": "code",
   "execution_count": 4,
   "metadata": {},
   "outputs": [],
   "source": [
    "def make_discrete(state1):\n",
    "    discrete_state1 = (state1 - env.observation_space.low)/state_parameters_dividor\n",
    "    discrete_state1 = tuple(discrete_state1.astype(np.int)) \n",
    "    return(discrete_state1)\n",
    "\n",
    "def get_q_array(state2):\n",
    "    discrete_state2 = make_discrete(state2)\n",
    "    q_array = q_table[discrete_state2]\n",
    "    return(q_array)"
   ]
  },
  {
   "cell_type": "code",
   "execution_count": null,
   "metadata": {},
   "outputs": [],
   "source": [
    "q_table = np.random.uniform(low = -2, high = 1, size = q_table_size)\n",
    "#q_table = np.load('q_table.npy')"
   ]
  },
  {
   "cell_type": "code",
   "execution_count": null,
   "metadata": {},
   "outputs": [],
   "source": [
    "learning_rate = 0.1\n",
    "discount = 0.95\n",
    "episodes = 20000\n",
    "show_every = episodes//5"
   ]
  },
  {
   "cell_type": "code",
   "execution_count": 7,
   "metadata": {},
   "outputs": [],
   "source": [
    "epsilon = 1\n",
    "start_decay_episode = 1\n",
    "stop_decay_episode = episodes // 2 \n",
    "\n",
    "epsilon_decay_value = epsilon/(stop_decay_episode - start_decay_episode)"
   ]
  },
  {
   "cell_type": "code",
   "execution_count": 9,
   "metadata": {
    "scrolled": true
   },
   "outputs": [
    {
     "name": "stdout",
     "output_type": "stream",
     "text": [
      "Reached flag in episode : 60\n",
      "Reached flag in episode : 80\n",
      "Wall time: 8.81 s\n"
     ]
    }
   ],
   "source": [
    "%%time\n",
    "\n",
    "all_episode_total_reward = []\n",
    "stats = {'ep':[],'avg':[],'min':[],'max':[]}\n",
    "\n",
    "for episode in range(episodes):\n",
    "    done = False\n",
    "    current_state = env.reset()\n",
    "    episode_total_reward = 0\n",
    "    \n",
    "    while not done:    \n",
    "        \n",
    "        #Random Epsilon value setter & Get action\n",
    "        if np.random.random() > epsilon:\n",
    "            current_q_array = get_q_array(current_state)\n",
    "            current_q_action = np.argmax(current_q_array)\n",
    "        else:\n",
    "            current_q_action = np.random.randint(low = 0, high = number_of_possible_actions)       \n",
    "\n",
    "        #Move Agent with the current action\n",
    "        new_state, reward, done, info = env.step(current_q_action)\n",
    "        episode_total_reward += reward\n",
    "        if episode % show_every == 0:\n",
    "            env.render()        \n",
    "        \n",
    "        if not done:\n",
    "            #Calculate MaxQ and currentQ\n",
    "            max_future_q_array = get_q_array(new_state)            \n",
    "            max_future_q_value = np.max(max_future_q_array)\n",
    "            current_q_value = q_table[make_discrete(current_state) + (current_q_action,)]\n",
    " \n",
    "            #Calculate actual new Q Value and it on Q_Table\n",
    "            new_q = (1 - learning_rate) * current_q_value + learning_rate * (reward + max_future_q_value * discount)\n",
    "            q_table[make_discrete(current_state) + (current_q_action,)] =  new_q\n",
    "\n",
    "        #When agent has reached goal\n",
    "        elif new_state[0] >= env.goal_position:\n",
    "            #set q_value to 0 (Causes the q_table to get filled with positive values using new_q formula)\n",
    "            q_table[make_discrete(current_state) + (current_q_action,)] = 0            \n",
    "            flag_episode = episode\n",
    "            if episode % show_every == 0:\n",
    "                print(f'Reached flag in episode : {flag_episode}')\n",
    "        \n",
    "        #Set new_state as current_state to continue the chain of actions\n",
    "        current_state = new_state \n",
    "    \n",
    "    #Decrease epsilon by decay_values for the first half of the episodes\n",
    "    if stop_decay_episode >= episode >= start_decay_episode:\n",
    "        epsilon -= epsilon_decay_value\n",
    "                     \n",
    "    all_episode_total_reward.append(episode_total_reward)\n",
    "    \n",
    "    if episode % show_every == 0:\n",
    "        stats['ep'].append(episode)\n",
    "        stats['avg'].append(sum(all_episode_total_reward[-show_every:])/show_every)\n",
    "        stats['min'].append(min(all_episode_total_reward[-show_every:]))    \n",
    "        stats['max'].append(max(all_episode_total_reward[-show_every:]))\n",
    "        \n",
    "env.close()        "
   ]
  },
  {
   "cell_type": "code",
   "execution_count": null,
   "metadata": {},
   "outputs": [],
   "source": [
    "plt.plot(stats['ep'],stats['avg'], label = 'Avg')\n",
    "plt.plot(stats['ep'],stats['min'], label = 'min')\n",
    "plt.plot(stats['ep'],stats['max'], label = 'max')\n",
    "plt.legend(loc=1)"
   ]
  },
  {
   "cell_type": "code",
   "execution_count": null,
   "metadata": {},
   "outputs": [],
   "source": [
    "np.save('q_table.npy',q_table)"
   ]
  }
 ],
 "metadata": {
  "kernelspec": {
   "display_name": "Python 3",
   "language": "python",
   "name": "python3"
  },
  "language_info": {
   "codemirror_mode": {
    "name": "ipython",
    "version": 3
   },
   "file_extension": ".py",
   "mimetype": "text/x-python",
   "name": "python",
   "nbconvert_exporter": "python",
   "pygments_lexer": "ipython3",
   "version": "3.6.6"
  }
 },
 "nbformat": 4,
 "nbformat_minor": 4
}
