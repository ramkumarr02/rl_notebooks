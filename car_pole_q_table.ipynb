{
 "cells": [
  {
   "cell_type": "code",
   "execution_count": 1,
   "metadata": {},
   "outputs": [],
   "source": [
    "import numpy as np\n",
    "import gym"
   ]
  },
  {
   "cell_type": "code",
   "execution_count": 2,
   "metadata": {},
   "outputs": [],
   "source": [
    "env_name = 'CartPole-v0'\n",
    "env = gym.make(env_name)"
   ]
  },
  {
   "cell_type": "code",
   "execution_count": 3,
   "metadata": {},
   "outputs": [
    {
     "name": "stdout",
     "output_type": "stream",
     "text": [
      "numter_of_state_parameter   : 4\n",
      "number_of_possible_actions  : 2\n",
      "custom_parameter_bins       : 20\n",
      "q_table_parameter_bins      : [20, 20, 20, 20]\n",
      "q_table_size                : [20, 20, 20, 20, 2]\n",
      "state_sample                : [3.1538935e+00 1.2346671e+38 4.3703638e-02 2.1848769e+38]\n",
      "state_parameter_range       : [  9.6        200.           0.83775806 200.        ]\n",
      "state_parameters_dividor    : [ 0.48000002 10.          0.0418879  10.        ]\n"
     ]
    }
   ],
   "source": [
    "numter_of_state_parameter = env.observation_space.shape[0]\n",
    "number_of_possible_actions = env.action_space.n\n",
    "\n",
    "custom_parameter_bins = 20\n",
    "\n",
    "q_table_parameter_bins = [custom_parameter_bins] * numter_of_state_parameter\n",
    "q_table_size = q_table_parameter_bins + [number_of_possible_actions,]\n",
    "\n",
    "\n",
    "state_sample = env.observation_space.sample()\n",
    "\n",
    "env.observation_space.high[1] = 100\n",
    "env.observation_space.low[1] = -100\n",
    "\n",
    "env.observation_space.high[3] = 100\n",
    "env.observation_space.low[3] = -100\n",
    "\n",
    "state_parameter_range = env.observation_space.high - env.observation_space.low\n",
    "state_parameters_dividor = state_parameter_range / q_table_parameter_bins \n",
    "\n",
    "print(f'numter_of_state_parameter   : {numter_of_state_parameter}')\n",
    "print(f'number_of_possible_actions  : {number_of_possible_actions}')\n",
    "print(f'custom_parameter_bins       : {custom_parameter_bins}')\n",
    "print(f'q_table_parameter_bins      : {q_table_parameter_bins}')\n",
    "print(f'q_table_size                : {q_table_size}')\n",
    "\n",
    "print(f'state_sample                : {state_sample}')\n",
    "print(f'state_parameter_range       : {state_parameter_range}')\n",
    "print(f'state_parameters_dividor    : {state_parameters_dividor}')"
   ]
  },
  {
   "cell_type": "code",
   "execution_count": 4,
   "metadata": {},
   "outputs": [],
   "source": [
    "def make_discrete(state1):\n",
    "    discrete_state1 = (state1 - env.observation_space.low)/state_parameters_dividor\n",
    "    discrete_state1 = tuple(discrete_state1.astype(np.int)) \n",
    "    return(discrete_state1)\n",
    "\n",
    "def get_q_array(state2):\n",
    "    discrete_state2 = make_discrete(state2)\n",
    "    q_array = q_table[discrete_state2]\n",
    "    return(q_array)"
   ]
  },
  {
   "cell_type": "code",
   "execution_count": 5,
   "metadata": {},
   "outputs": [],
   "source": [
    "q_table = np.random.uniform(low = -100, high = 100, size = q_table_size)"
   ]
  },
  {
   "cell_type": "code",
   "execution_count": 11,
   "metadata": {},
   "outputs": [],
   "source": [
    "learning_rate = 0.1\n",
    "discount = 0.95\n",
    "episodes = 20000\n",
    "show_every = episodes // 5"
   ]
  },
  {
   "cell_type": "code",
   "execution_count": 19,
   "metadata": {},
   "outputs": [],
   "source": [
    "epsilon = 0\n",
    "start_epsilon_decay_episode = 1\n",
    "stop_epsilon_decay_episode = episodes // 1.4\n",
    "epsilon_decay_value = epsilon / (start_epsilon_decay_episode - stop_epsilon_decay_episode) "
   ]
  },
  {
   "cell_type": "code",
   "execution_count": 20,
   "metadata": {
    "scrolled": true
   },
   "outputs": [
    {
     "name": "stdout",
     "output_type": "stream",
     "text": [
      "Reached goal in episode : 4000 with count : 200\n",
      "Reached goal in episode : 8000 with count : 200\n",
      "Reached goal in episode : 12000 with count : 200\n"
     ]
    }
   ],
   "source": [
    "cnt_list = []\n",
    "total_reward_list = []\n",
    "\n",
    "for episode in range(episodes):\n",
    "    done = False\n",
    "    cnt = 1\n",
    "    total_reward = 0\n",
    "    current_state = env.reset()\n",
    "    \n",
    "    \n",
    "    while not done:\n",
    "        \n",
    "       #Random Epsilon value setter & Get action\n",
    "        if np.random.random() > epsilon:\n",
    "            current_q_array = get_q_array(current_state)\n",
    "            current_q_action = np.argmax(current_q_array)\n",
    "        else:\n",
    "            current_q_action = np.random.randint(low = 0, high = number_of_possible_actions)       \n",
    "\n",
    "        new_state, reward, done, info = env.step(current_q_action)\n",
    "        \n",
    "        if episode % show_every == 0:\n",
    "            env.render()\n",
    "        \n",
    "        if not done:\n",
    "            max_future_q_array = get_q_array(new_state)\n",
    "            max_future_q_value = np.max(max_future_q_array)\n",
    "            current_q_value = q_table[make_discrete(current_state) + (current_q_action,)]\n",
    "            \n",
    "            new_q = (1 - learning_rate) * current_q_value + learning_rate * (reward + discount * max_future_q_value)\n",
    "            \n",
    "            q_table[make_discrete(current_state) + (current_q_action,)] = new_q\n",
    "            total_reward += reward\n",
    "            cnt += 1\n",
    "            avg_reward = total_reward / cnt\n",
    "        \n",
    "        elif done and cnt < 195:\n",
    "            q_table[make_discrete(current_state) + (current_q_action,)] = -200\n",
    "         \n",
    "        if done and cnt >= 195:\n",
    "            if episode % show_every == 0:\n",
    "                q_table[make_discrete(current_state) + (current_q_action,)] = 200\n",
    "                print(f'Reached goal in episode : {episode} with count : {cnt}') \n",
    "                \n",
    "        current_state = new_state\n",
    "        \n",
    "        cnt_list.append(cnt)\n",
    "        total_reward_list.append(total_reward)        \n",
    "        \n",
    "    #Decrease epsilon by decay_values for the first half of the episodes\n",
    "    if stop_epsilon_decay_episode >= episode >= start_epsilon_decay_episode:\n",
    "        epsilon -= epsilon_decay_value\n",
    "\n",
    "env.close()    "
   ]
  },
  {
   "cell_type": "code",
   "execution_count": 21,
   "metadata": {},
   "outputs": [
    {
     "data": {
      "text/plain": [
       "200"
      ]
     },
     "execution_count": 21,
     "metadata": {},
     "output_type": "execute_result"
    }
   ],
   "source": [
    "max(cnt_list)"
   ]
  },
  {
   "cell_type": "code",
   "execution_count": 22,
   "metadata": {
    "scrolled": false
   },
   "outputs": [
    {
     "data": {
      "text/plain": [
       "199.0"
      ]
     },
     "execution_count": 22,
     "metadata": {},
     "output_type": "execute_result"
    }
   ],
   "source": [
    "max(total_reward_list)"
   ]
  }
 ],
 "metadata": {
  "kernelspec": {
   "display_name": "Python 3",
   "language": "python",
   "name": "python3"
  },
  "language_info": {
   "codemirror_mode": {
    "name": "ipython",
    "version": 3
   },
   "file_extension": ".py",
   "mimetype": "text/x-python",
   "name": "python",
   "nbconvert_exporter": "python",
   "pygments_lexer": "ipython3",
   "version": "3.6.6"
  }
 },
 "nbformat": 4,
 "nbformat_minor": 4
}
