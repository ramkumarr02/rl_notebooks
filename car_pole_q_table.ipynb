{
 "cells": [
  {
   "cell_type": "code",
   "execution_count": 1,
   "metadata": {},
   "outputs": [],
   "source": [
    "import numpy as np\n",
    "import gym"
   ]
  },
  {
   "cell_type": "code",
   "execution_count": 2,
   "metadata": {},
   "outputs": [],
   "source": [
    "env = gym.make('CartPole-v0')"
   ]
  },
  {
   "cell_type": "code",
   "execution_count": 21,
   "metadata": {},
   "outputs": [
    {
     "data": {
      "text/plain": [
       "[20, 20, 20, 20]"
      ]
     },
     "execution_count": 21,
     "metadata": {},
     "output_type": "execute_result"
    }
   ],
   "source": [
    "[20] * env.observation_space.shape[0]"
   ]
  },
  {
   "cell_type": "code",
   "execution_count": 10,
   "metadata": {},
   "outputs": [
    {
     "name": "stdout",
     "output_type": "stream",
     "text": [
      "state_parameter_size : 4\n",
      "max_possible_actions : 2\n",
      "required_number_bins : 20\n",
      "max_possible_actions : 2\n",
      "max_possible_actions : 2\n"
     ]
    }
   ],
   "source": [
    "state_parameter_size = env.observation_space.shape[0]\n",
    "max_possible_actions = env.action_space.n\n",
    "\n",
    "required_number_bins = 20\n",
    "\n",
    "\n",
    "\n",
    "state_sample = env.observation_space.sample()\n",
    "\n",
    "\n",
    "print(f'state_parameter_size : {state_parameter_size}')\n",
    "print(f'max_possible_actions : {max_possible_actions}')\n",
    "print(f'required_number_bins : {required_number_bins}')\n",
    "print(f'max_possible_actions : {max_possible_actions}')\n",
    "print(f'max_possible_actions : {max_possible_actions}')"
   ]
  }
 ],
 "metadata": {
  "kernelspec": {
   "display_name": "Python 3",
   "language": "python",
   "name": "python3"
  },
  "language_info": {
   "codemirror_mode": {
    "name": "ipython",
    "version": 3
   },
   "file_extension": ".py",
   "mimetype": "text/x-python",
   "name": "python",
   "nbconvert_exporter": "python",
   "pygments_lexer": "ipython3",
   "version": "3.6.6"
  }
 },
 "nbformat": 4,
 "nbformat_minor": 4
}
