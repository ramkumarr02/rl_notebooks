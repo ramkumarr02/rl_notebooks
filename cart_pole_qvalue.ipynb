{
 "cells": [
  {
   "cell_type": "code",
   "execution_count": 1,
   "metadata": {},
   "outputs": [],
   "source": [
    "import numpy as np\n",
    "import gym"
   ]
  },
  {
   "cell_type": "code",
   "execution_count": 2,
   "metadata": {},
   "outputs": [],
   "source": [
    "env = gym.make('MountainCar-v0')"
   ]
  },
  {
   "cell_type": "code",
   "execution_count": 3,
   "metadata": {},
   "outputs": [
    {
     "name": "stdout",
     "output_type": "stream",
     "text": [
      "number_of_state_parameters : 2\n",
      "number_of_possible_actions : 3\n",
      "-----------------------------\n",
      "custom_parameter_bins      : 5\n",
      "q_table_parameter_bins     : [5, 5]\n",
      "q_table_size               : [5, 5, 3]\n",
      "-----------------------------\n",
      "state_parameter_sample     : [ 0.28189534 -0.03447452]\n",
      "state_parameters_range     : [1.8000001 0.14     ]\n",
      "state_parameters_dividor   : [0.36000001 0.028     ]\n"
     ]
    }
   ],
   "source": [
    "number_of_state_parameters = env.observation_space.shape[0]\n",
    "number_of_possible_actions = env.action_space.n\n",
    "\n",
    "custom_parameter_bins = 5\n",
    "\n",
    "q_table_parameter_bins = [custom_parameter_bins] * number_of_state_parameters \n",
    "q_table_size = q_table_parameter_bins + [number_of_possible_actions,]\n",
    "\n",
    "state_parameter_sample = env.observation_space.sample()\n",
    "state_parameters_range = env.observation_space.high - env.observation_space.low\n",
    "state_parameters_dividor = (state_parameters_range) / q_table_parameter_bins\n",
    "\n",
    "\n",
    "print(f'number_of_state_parameters : {number_of_state_parameters}')\n",
    "print(f'number_of_possible_actions : {number_of_possible_actions}')\n",
    "\n",
    "print('-----------------------------')\n",
    "\n",
    "print(f'custom_parameter_bins      : {custom_parameter_bins}')\n",
    "print(f'q_table_parameter_bins     : {q_table_parameter_bins}')      \n",
    "print(f'q_table_size               : {q_table_size}')      \n",
    "\n",
    "print('-----------------------------')\n",
    "print(f'state_parameter_sample     : {state_parameter_sample}')\n",
    "print(f'state_parameters_range     : {state_parameters_range}')\n",
    "print(f'state_parameters_dividor   : {state_parameters_dividor}')      "
   ]
  },
  {
   "cell_type": "code",
   "execution_count": 4,
   "metadata": {
    "scrolled": true
   },
   "outputs": [
    {
     "name": "stdout",
     "output_type": "stream",
     "text": [
      "(5, 5, 3)\n"
     ]
    }
   ],
   "source": [
    "q_table = np.random.uniform(low = -2, high = 1, size = q_table_size)\n",
    "print(q_table.shape)"
   ]
  },
  {
   "cell_type": "code",
   "execution_count": 5,
   "metadata": {},
   "outputs": [],
   "source": [
    "def make_discrete(state):\n",
    "    discrete_state = (state - env.observation_space.low)/state_parameters_dividor\n",
    "    discrete_state = tuple(discrete_state.astype(np.int)) \n",
    "    return(discrete_state)\n",
    "\n",
    "def get_q_array(state):\n",
    "    discrete_state = make_discrete(state)\n",
    "    q_array = q_table[discrete_state]\n",
    "    return(q_array)"
   ]
  },
  {
   "cell_type": "code",
   "execution_count": 6,
   "metadata": {},
   "outputs": [],
   "source": [
    "learning_rate = 0.1\n",
    "discount = 0.95"
   ]
  },
  {
   "cell_type": "code",
   "execution_count": 14,
   "metadata": {},
   "outputs": [],
   "source": [
    "done = False\n",
    "\n",
    "state = env.reset()\n",
    "while not done:    \n",
    "    current_q_array = get_q_array(state)\n",
    "    current_action = np.argmax(current_q_array)\n",
    "    \n",
    "    new_state, reward, done, info = env.step(current_action)\n",
    "    \n",
    "    if not done:\n",
    "        max_future_q_array = get_q_array(new_state)\n",
    "        max_future_q_action = np.max(max_q_array)\n",
    "        \n",
    "        current_q_action = np.max(current_q_array)\n",
    "        \n",
    "        new_q = (1- learning_rate) * current_q_action + learning_rate * (reward + max_future_q_action * discount)\n",
    "        \n",
    "        q_table[make_discrete(state)] =  new_q\n",
    "        \n",
    "        \n",
    "    elif new_state[0] >= env.goal_position:\n",
    "        q_table[make_discrete(state)] = 0\n",
    "    #env.render()\n",
    "    \n",
    "env.close()"
   ]
  }
 ],
 "metadata": {
  "kernelspec": {
   "display_name": "Python 3",
   "language": "python",
   "name": "python3"
  },
  "language_info": {
   "codemirror_mode": {
    "name": "ipython",
    "version": 3
   },
   "file_extension": ".py",
   "mimetype": "text/x-python",
   "name": "python",
   "nbconvert_exporter": "python",
   "pygments_lexer": "ipython3",
   "version": "3.6.6"
  }
 },
 "nbformat": 4,
 "nbformat_minor": 4
}
