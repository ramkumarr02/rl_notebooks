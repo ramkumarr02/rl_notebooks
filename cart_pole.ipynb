{
 "cells": [
  {
   "cell_type": "markdown",
   "metadata": {},
   "source": [
    "# Packages"
   ]
  },
  {
   "cell_type": "code",
   "execution_count": 1,
   "metadata": {},
   "outputs": [],
   "source": [
    "import numpy as np\n",
    "import pandas as pd\n",
    "import gym\n",
    "import ffmpeg"
   ]
  },
  {
   "cell_type": "code",
   "execution_count": 2,
   "metadata": {},
   "outputs": [],
   "source": [
    "env = gym.make('CartPole-v0')"
   ]
  },
  {
   "cell_type": "code",
   "execution_count": 3,
   "metadata": {},
   "outputs": [],
   "source": [
    "act_sp = env.action_space\n",
    "box = env.observation_space"
   ]
  },
  {
   "cell_type": "markdown",
   "metadata": {},
   "source": [
    "## Random movements"
   ]
  },
  {
   "cell_type": "code",
   "execution_count": 4,
   "metadata": {},
   "outputs": [
    {
     "name": "stdout",
     "output_type": "stream",
     "text": [
      "Number of steps random : 24\n"
     ]
    }
   ],
   "source": [
    "count = 0\n",
    "\n",
    "observation = env.reset()\n",
    "done = False\n",
    "while not done and count < 1000:   \n",
    "    observation, reward, done, info = env.step(act_sp.sample())\n",
    "    env.render()\n",
    "    count += 1\n",
    "env.close()\n",
    "\n",
    "print(f'Number of steps random : {count}')"
   ]
  },
  {
   "cell_type": "markdown",
   "metadata": {},
   "source": [
    "## Move by angle polarity"
   ]
  },
  {
   "cell_type": "code",
   "execution_count": 5,
   "metadata": {},
   "outputs": [
    {
     "name": "stdout",
     "output_type": "stream",
     "text": [
      "Number of steps by pole angle polarity : 41\n"
     ]
    }
   ],
   "source": [
    "count = 0\n",
    "\n",
    "observation = env.reset()\n",
    "done = False\n",
    "while not done and count < 1000:\n",
    "    if observation[2] < 0:\n",
    "        move = 0\n",
    "    elif observation[2] > 0:\n",
    "        move = 1    \n",
    "    observation, reward, done, info = env.step(move)\n",
    "    env.render()\n",
    "    count += 1\n",
    "env.close()\n",
    "\n",
    "print(f'Number of steps by pole angle polarity : {count}')"
   ]
  },
  {
   "cell_type": "markdown",
   "metadata": {},
   "source": [
    "# Move by angle polarity with Random weights"
   ]
  },
  {
   "cell_type": "code",
   "execution_count": 6,
   "metadata": {},
   "outputs": [
    {
     "name": "stdout",
     "output_type": "stream",
     "text": [
      "Number of steps by pole angle polarity : 12\n"
     ]
    }
   ],
   "source": [
    "count = 0\n",
    "observation = env.reset()\n",
    "\n",
    "done = False\n",
    "while not done and count < 1000:\n",
    "    temp = np.random.random(4) * 2 -1\n",
    "    w = observation.dot(temp)\n",
    "    \n",
    "    if w < 0:\n",
    "        move = 0\n",
    "    elif w > 0:\n",
    "        move = 1    \n",
    "    observation, reward, done, info = env.step(move)\n",
    "    env.render()\n",
    "    count += 1\n",
    "env.close()\n",
    "\n",
    "print(f'Number of steps by pole angle polarity : {count}')"
   ]
  },
  {
   "cell_type": "markdown",
   "metadata": {},
   "source": [
    "## Multiple episodes"
   ]
  },
  {
   "cell_type": "code",
   "execution_count": 7,
   "metadata": {},
   "outputs": [],
   "source": [
    "from gym import wrappers"
   ]
  },
  {
   "cell_type": "code",
   "execution_count": 8,
   "metadata": {
    "scrolled": false
   },
   "outputs": [],
   "source": [
    "env = wrappers.Monitor(env, 'videos1')\n",
    "for _ in range(25):\n",
    "    count = 0\n",
    "    observation = env.reset()\n",
    "\n",
    "    done = False\n",
    "    while not done and count < 200:\n",
    "        temp = np.random.random(4) * 2 -1\n",
    "        w = observation.dot(temp)\n",
    "\n",
    "        if w < 0:\n",
    "            move = 0\n",
    "        elif w > 0:\n",
    "            move = 1    \n",
    "        observation, reward, done, info = env.step(move)\n",
    "        #env.render()\n",
    "        count += 1\n",
    "#env.close()"
   ]
  },
  {
   "cell_type": "code",
   "execution_count": 9,
   "metadata": {},
   "outputs": [],
   "source": [
    "env.close()"
   ]
  },
  {
   "cell_type": "code",
   "execution_count": 10,
   "metadata": {},
   "outputs": [
    {
     "name": "stdout",
     "output_type": "stream",
     "text": [
      "Package              Version     \n",
      "-------------------- ------------\n",
      "absl-py              0.9.0       \n",
      "astor                0.8.1       \n",
      "atari-py             0.2.6       \n",
      "attrs                19.3.0      \n",
      "backcall             0.1.0       \n",
      "bleach               3.1.4       \n",
      "cachetools           4.1.0       \n",
      "certifi              2020.4.5.1  \n",
      "chardet              3.0.4       \n",
      "cloudpickle          1.3.0       \n",
      "cntk-gpu             2.7         \n",
      "colorama             0.4.3       \n",
      "cycler               0.10.0      \n",
      "decorator            4.4.2       \n",
      "defusedxml           0.6.0       \n",
      "entrypoints          0.3         \n",
      "ffmpeg               1.4         \n",
      "ffmpeg-python        0.2.0       \n",
      "future               0.18.2      \n",
      "gast                 0.2.2       \n",
      "google-auth          1.14.0      \n",
      "google-auth-oauthlib 0.4.1       \n",
      "google-pasta         0.2.0       \n",
      "grpcio               1.28.1      \n",
      "gym                  0.17.1      \n",
      "h5py                 2.10.0      \n",
      "idna                 2.9         \n",
      "importlib-metadata   1.6.0       \n",
      "ipykernel            5.2.1       \n",
      "ipython              7.13.0      \n",
      "ipython-genutils     0.2.0       \n",
      "ipywidgets           7.5.1       \n",
      "jedi                 0.17.0      \n",
      "Jinja2               2.11.2      \n",
      "joblib               0.14.1      \n",
      "jsonschema           3.2.0       \n",
      "jupyter              1.0.0       \n",
      "jupyter-client       6.1.3       \n",
      "jupyter-console      6.1.0       \n",
      "jupyter-core         4.6.3       \n",
      "Keras                2.3.1       \n",
      "Keras-Applications   1.0.8       \n",
      "Keras-Preprocessing  1.1.0       \n",
      "kiwisolver           1.2.0       \n",
      "Markdown             3.2.1       \n",
      "MarkupSafe           1.1.1       \n",
      "matplotlib           3.2.1       \n",
      "mistune              0.8.4       \n",
      "nbconvert            5.6.1       \n",
      "nbformat             5.0.5       \n",
      "notebook             6.0.3       \n",
      "numpy                1.18.2      \n",
      "oauthlib             3.1.0       \n",
      "opt-einsum           3.2.1       \n",
      "pandas               1.0.3       \n",
      "pandocfilters        1.4.2       \n",
      "parso                0.7.0       \n",
      "pickleshare          0.7.5       \n",
      "Pillow               7.1.1       \n",
      "pip                  20.0.2      \n",
      "prometheus-client    0.7.1       \n",
      "prompt-toolkit       3.0.5       \n",
      "protobuf             3.11.3      \n",
      "pyasn1               0.4.8       \n",
      "pyasn1-modules       0.2.8       \n",
      "pyglet               1.5.0       \n",
      "Pygments             2.6.1       \n",
      "pyparsing            2.4.7       \n",
      "pyrsistent           0.16.0      \n",
      "python-dateutil      2.8.1       \n",
      "pytz                 2019.3      \n",
      "pywin32              227         \n",
      "pywinpty             0.5.7       \n",
      "PyYAML               5.3.1       \n",
      "pyzmq                19.0.0      \n",
      "qtconsole            4.7.2       \n",
      "QtPy                 1.9.0       \n",
      "requests             2.23.0      \n",
      "requests-oauthlib    1.3.0       \n",
      "rsa                  4.0         \n",
      "scikit-learn         0.22.2.post1\n",
      "scipy                1.4.1       \n",
      "Send2Trash           1.5.0       \n",
      "setuptools           46.1.3      \n",
      "six                  1.14.0      \n",
      "sklearn              0.0         \n",
      "tensorboard          2.1.1       \n",
      "tensorflow           2.1.0       \n",
      "tensorflow-estimator 2.1.0       \n",
      "termcolor            1.1.0       \n",
      "terminado            0.8.3       \n",
      "testpath             0.4.4       \n",
      "torch                1.4.0       \n",
      "torchvision          0.5.0       \n",
      "tornado              6.0.4       \n",
      "traitlets            4.3.3       \n",
      "urllib3              1.25.8      \n",
      "wcwidth              0.1.9       \n",
      "webencodings         0.5.1       \n",
      "Werkzeug             1.0.1       \n",
      "wheel                0.34.2      \n",
      "widgetsnbextension   3.5.1       \n",
      "wrapt                1.12.1      \n",
      "zipp                 3.1.0       \n"
     ]
    }
   ],
   "source": [
    "!pip list"
   ]
  }
 ],
 "metadata": {
  "kernelspec": {
   "display_name": "Python 3",
   "language": "python",
   "name": "python3"
  },
  "language_info": {
   "codemirror_mode": {
    "name": "ipython",
    "version": 3
   },
   "file_extension": ".py",
   "mimetype": "text/x-python",
   "name": "python",
   "nbconvert_exporter": "python",
   "pygments_lexer": "ipython3",
   "version": "3.6.6"
  }
 },
 "nbformat": 4,
 "nbformat_minor": 4
}
