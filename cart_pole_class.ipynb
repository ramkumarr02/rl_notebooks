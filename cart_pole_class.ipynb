{
 "cells": [
  {
   "cell_type": "markdown",
   "metadata": {},
   "source": [
    "# Packages"
   ]
  },
  {
   "cell_type": "code",
   "execution_count": 1,
   "metadata": {},
   "outputs": [],
   "source": [
    "import numpy as np\n",
    "import gym\n",
    "import matplotlib.pyplot as plt\n",
    "from gym import wrappers"
   ]
  },
  {
   "cell_type": "code",
   "execution_count": 2,
   "metadata": {},
   "outputs": [],
   "source": [
    "class Create_simulation():    \n",
    "    '''\n",
    "    Create Simulation\n",
    "     - env (object): environment\n",
    "     - max_steps (int):  max action steps    \n",
    "    '''\n",
    "    \n",
    "    \n",
    "    def __init__(self, env, max_steps = 100):\n",
    "        self.env = env\n",
    "        self.count_list = []     \n",
    "        self.max_steps = max_steps\n",
    "       \n",
    "    \n",
    "        \n",
    "    def __get_act__(self, observation):        \n",
    "        if observation[2] < 0:\n",
    "            action = 0\n",
    "        elif observation[2] > 0:\n",
    "            action = 1\n",
    "        return(action)\n",
    "    \n",
    "    \n",
    "    \n",
    "    def play_one_episode(self, rend = False):        \n",
    "        '''\n",
    "        Play one episode of simulation \n",
    "         - rend (boolean) : Render video\n",
    "        '''        \n",
    "        observation = self.env.reset()\n",
    "        done = False\n",
    "        cnt = 0\n",
    "        while not done and cnt < self.max_steps:\n",
    "            cnt += 1\n",
    "            act = self.__get_act__(observation)\n",
    "            observation, reward, done, info = self.env.step(act)\n",
    "            if rend:\n",
    "                self.env.render()                \n",
    "        if rend:\n",
    "            self.env.close()        \n",
    "        return(cnt) \n",
    "    \n",
    "    \n",
    "        \n",
    "    def play_many_episode(self, epis, rend = False):        \n",
    "        '''\n",
    "        Play multiple episodes of simulation\n",
    "         - epis (int) : number of episodes\n",
    "         - rend (boolean) : Render video \n",
    "        '''        \n",
    "        self.count_list = []\n",
    "        for _ in range(epis):            \n",
    "            count = self.play_one_episode(rend)\n",
    "            self.count_list.append(count)\n",
    "        return(self.count_list)"
   ]
  },
  {
   "cell_type": "code",
   "execution_count": 3,
   "metadata": {},
   "outputs": [],
   "source": [
    "env = gym.make('CartPole-v0')"
   ]
  },
  {
   "cell_type": "code",
   "execution_count": 4,
   "metadata": {},
   "outputs": [],
   "source": [
    "cart1 = Create_simulation(env)"
   ]
  },
  {
   "cell_type": "code",
   "execution_count": 5,
   "metadata": {},
   "outputs": [
    {
     "data": {
      "text/plain": [
       "27"
      ]
     },
     "execution_count": 5,
     "metadata": {},
     "output_type": "execute_result"
    }
   ],
   "source": [
    "cart1.play_one_episode(rend = True,)"
   ]
  },
  {
   "cell_type": "code",
   "execution_count": 6,
   "metadata": {},
   "outputs": [
    {
     "data": {
      "text/plain": [
       "[45, 46, 38, 39, 24]"
      ]
     },
     "execution_count": 6,
     "metadata": {},
     "output_type": "execute_result"
    }
   ],
   "source": [
    "cart1.play_many_episode(epis = 5)"
   ]
  },
  {
   "cell_type": "code",
   "execution_count": 7,
   "metadata": {},
   "outputs": [
    {
     "data": {
      "text/plain": [
       "[<matplotlib.lines.Line2D at 0x22722636470>]"
      ]
     },
     "execution_count": 7,
     "metadata": {},
     "output_type": "execute_result"
    },
    {
     "data": {
      "image/png": "[encoded data removed]",
      "text/plain": [
       "<Figure size 432x288 with 1 Axes>"
      ]
     },
     "metadata": {
      "needs_background": "light"
     },
     "output_type": "display_data"
    }
   ],
   "source": [
    "plt.plot(cart1.count_list)"
   ]
  }
 ],
 "metadata": {
  "kernelspec": {
   "display_name": "Python 3",
   "language": "python",
   "name": "python3"
  },
  "language_info": {
   "codemirror_mode": {
    "name": "ipython",
    "version": 3
   },
   "file_extension": ".py",
   "mimetype": "text/x-python",
   "name": "python",
   "nbconvert_exporter": "python",
   "pygments_lexer": "ipython3",
   "version": "3.6.6"
  }
 },
 "nbformat": 4,
 "nbformat_minor": 4
}
